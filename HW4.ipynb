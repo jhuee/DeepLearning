{
  "nbformat": 4,
  "nbformat_minor": 0,
  "metadata": {
    "colab": {
      "provenance": [],
      "include_colab_link": true
    },
    "kernelspec": {
      "name": "python3",
      "display_name": "Python 3"
    },
    "accelerator": "GPU",
    "gpuClass": "standard"
  },
  "cells": [
    {
      "cell_type": "markdown",
      "metadata": {
        "id": "view-in-github",
        "colab_type": "text"
      },
      "source": [
        "<a href=\"https://colab.research.google.com/github/jhuee/DeepLearning/blob/main/HW4.ipynb\" target=\"_parent\"><img src=\"https://colab.research.google.com/assets/colab-badge.svg\" alt=\"Open In Colab\"/></a>"
      ]
    },
    {
      "cell_type": "code",
      "metadata": {
        "id": "X5cGnvi7A3Un",
        "colab": {
          "base_uri": "https://localhost:8080/"
        },
        "outputId": "3ea8c702-bf1e-4a05-e199-89b23d8101e4"
      },
      "source": [
        "!nvidia-smi"
      ],
      "execution_count": null,
      "outputs": [
        {
          "output_type": "stream",
          "name": "stdout",
          "text": [
            "Tue Apr 16 01:43:37 2024       \n",
            "+---------------------------------------------------------------------------------------+\n",
            "| NVIDIA-SMI 535.104.05             Driver Version: 535.104.05   CUDA Version: 12.2     |\n",
            "|-----------------------------------------+----------------------+----------------------+\n",
            "| GPU  Name                 Persistence-M | Bus-Id        Disp.A | Volatile Uncorr. ECC |\n",
            "| Fan  Temp   Perf          Pwr:Usage/Cap |         Memory-Usage | GPU-Util  Compute M. |\n",
            "|                                         |                      |               MIG M. |\n",
            "|=========================================+======================+======================|\n",
            "|   0  Tesla T4                       Off | 00000000:00:04.0 Off |                    0 |\n",
            "| N/A   35C    P8               9W /  70W |      0MiB / 15360MiB |      0%      Default |\n",
            "|                                         |                      |                  N/A |\n",
            "+-----------------------------------------+----------------------+----------------------+\n",
            "                                                                                         \n",
            "+---------------------------------------------------------------------------------------+\n",
            "| Processes:                                                                            |\n",
            "|  GPU   GI   CI        PID   Type   Process name                            GPU Memory |\n",
            "|        ID   ID                                                             Usage      |\n",
            "|=======================================================================================|\n",
            "|  No running processes found                                                           |\n",
            "+---------------------------------------------------------------------------------------+\n"
          ]
        }
      ]
    },
    {
      "cell_type": "code",
      "metadata": {
        "id": "0Y2OsX2EQU3v",
        "colab": {
          "base_uri": "https://localhost:8080/"
        },
        "outputId": "d124095b-befa-4638-d903-328c6159c0aa"
      },
      "source": [
        "import os\n",
        "import torch\n",
        "import torch.nn as nn\n",
        "import torch.optim as optim\n",
        "import torchvision.datasets as datasets\n",
        "import torchvision.transforms as transforms\n",
        "\n",
        "# This mounts your google drive storage to this code\n",
        "from google.colab import drive\n",
        "drive.mount('/content/gdrive')\n"
      ],
      "execution_count": null,
      "outputs": [
        {
          "output_type": "stream",
          "name": "stdout",
          "text": [
            "Drive already mounted at /content/gdrive; to attempt to forcibly remount, call drive.mount(\"/content/gdrive\", force_remount=True).\n"
          ]
        }
      ]
    },
    {
      "cell_type": "code",
      "metadata": {
        "id": "AryDcrN7QU31",
        "colab": {
          "base_uri": "https://localhost:8080/"
        },
        "outputId": "2a4e9098-10ce-4816-d9ac-3d76a8cb6a7e"
      },
      "source": [
        "device = \"cuda\" if torch.cuda.is_available() else \"cpu\"\n",
        "print(f\"Using {device} device\")\n",
        "\n",
        "root = '/content/gdrive/My Drive/Test/'\n",
        "\n",
        "# root = './'\n",
        "# if not os.path.exists(root):\n",
        "#     os.makedirs(root)"
      ],
      "execution_count": null,
      "outputs": [
        {
          "output_type": "stream",
          "name": "stdout",
          "text": [
            "Using cuda device\n"
          ]
        }
      ]
    },
    {
      "cell_type": "markdown",
      "source": [
        "데이터 로드\n",
        "네트워크 구성\n",
        "loss\n",
        "optimezer\n",
        "train\n",
        "test 순서로\n"
      ],
      "metadata": {
        "id": "WHlhpkomlLQA"
      }
    },
    {
      "cell_type": "code",
      "metadata": {
        "id": "6HVAXJ7DQU35"
      },
      "source": [
        "# settings for data normalization\n",
        "# trans = transforms.Compose([transform.ToTensor(), transform.Normalize((0.5,),(1.0,))])\n",
        "#기본 변환 지정\n",
        "trans = transforms.ToTensor()\n",
        "# trans = transforms.Compose([transforms.ToTensor(), transforms.RandomHorizontalFlip()])\n",
        "\n",
        "\n",
        "train_data = datasets.FashionMNIST(\n",
        "    root=root,\n",
        "    train=True,\n",
        "    download=True,\n",
        "    transform=trans,\n",
        ")\n",
        "\n",
        "test_data = datasets.FashionMNIST(\n",
        "    root=root,\n",
        "    train=False,\n",
        "    download=True,\n",
        "    transform=trans,\n",
        ")\n",
        "\n",
        "#데이터를 셔플해주는 역할, 배치 크기로 빼주는 역할\n",
        "batch_size = 50\n",
        "train_loader = torch.utils.data.DataLoader(train_data,batch_size=batch_size,shuffle=True)\n",
        "test_loader = torch.utils.data.DataLoader(test_data,batch_size=batch_size,shuffle=False)\n"
      ],
      "execution_count": null,
      "outputs": []
    },
    {
      "cell_type": "code",
      "source": [
        "# Linear Classification\n",
        "#init, foward 정의\n",
        "\n",
        "class LinearClassification(nn.Module):\n",
        "    def __init__(self):\n",
        "        super().__init__()\n",
        "        self.flatten = nn.Flatten()\n",
        "        self.linear = nn.Sequential(\n",
        "            nn.Linear(28*28, 10),\n",
        "        )\n",
        "\n",
        "    def forward(self, x):\n",
        "        x = self.flatten(x)\n",
        "        logits = self.linear(x)\n",
        "        return logits\n",
        "\n",
        "model = LinearClassification().to(device)\n",
        "print(model)\n"
      ],
      "metadata": {
        "id": "wdDmKu9z_eu3",
        "colab": {
          "base_uri": "https://localhost:8080/"
        },
        "outputId": "496fe886-c40f-45d7-e2cf-834e8b44b7c0"
      },
      "execution_count": null,
      "outputs": [
        {
          "output_type": "stream",
          "name": "stdout",
          "text": [
            "LinearClassification(\n",
            "  (flatten): Flatten(start_dim=1, end_dim=-1)\n",
            "  (linear): Sequential(\n",
            "    (0): Linear(in_features=784, out_features=10, bias=True)\n",
            "  )\n",
            ")\n"
          ]
        }
      ]
    },
    {
      "cell_type": "markdown",
      "source": [
        "#여러개의 레이어를 쓰는 경우"
      ],
      "metadata": {
        "id": "Fjf6jmHZmYIo"
      }
    },
    {
      "cell_type": "code",
      "source": [
        "# # Multi-layer Perceptron\n",
        "# class NeuralNetwork(nn.Module):\n",
        "#     def __init__(self):\n",
        "#         super().__init__()\n",
        "#         self.flatten = nn.Flatten()\n",
        "#         self.linear_relu_stack = nn.Sequential(\n",
        "#             nn.Linear(28*28, 512),\n",
        "#             nn.ReLU(),\n",
        "#             nn.Linear(512, 512),\n",
        "#             nn.ReLU(),\n",
        "#             nn.Linear(512, 10)\n",
        "#         )\n",
        "\n",
        "#     def forward(self, x):\n",
        "#         x = self.flatten(x)\n",
        "#         logits = self.linear_relu_stack(x)\n",
        "#         return logits\n",
        "\n",
        "# model = NeuralNetwork().to(device)\n",
        "# print(model)\n"
      ],
      "metadata": {
        "id": "bhPn_4CvsfV9"
      },
      "execution_count": null,
      "outputs": []
    },
    {
      "cell_type": "markdown",
      "source": [
        "#CNN을 사용하여 convolution layer를 쌓기\n"
      ],
      "metadata": {
        "id": "f1hwyZ_ZmfwA"
      }
    },
    {
      "cell_type": "code",
      "metadata": {
        "id": "n4kyTJnAQU39",
        "colab": {
          "base_uri": "https://localhost:8080/"
        },
        "outputId": "5591e776-995e-4646-c1d9-10a0e986c821"
      },
      "source": [
        "# define the CNN:\n",
        "# two convolution layers followed by two linear layers\n",
        "\n",
        "class MyConvNet(nn.Module):   # nn.Module should be inherited for the neural network configuration so that it can work with backpropagation APIs\n",
        "    def __init__(self):    # define layers: two conv layers and two linear (fully connected) layers\n",
        "        super(MyConvNet, self).__init__()\n",
        "        self.conv_layers = nn.Sequential(\n",
        "            nn.Conv2d(1, 32, 5),\n",
        "            nn.ReLU(),\n",
        "            nn.MaxPool2d(2,2),\n",
        "            nn.Conv2d(32, 64, 5),\n",
        "            nn.ReLU(),\n",
        "            nn.MaxPool2d(2,2),\n",
        "            nn.Flatten(),\n",
        "            nn.Linear(4*4*64, 512),\n",
        "            nn.Linear(512, 10)\n",
        "        )\n",
        "\n",
        "    # network connection: two conv layers, each followed by relu and max-pooling with (2x2) kernel, and two linear layer\n",
        "    def forward(self, x):\n",
        "        logits = self.conv_layers(x)\n",
        "        return(logits)\n",
        "\n",
        "\n",
        "# generate neural net model\n",
        "model = MyConvNet().to(device)\n",
        "print(model)\n"
      ],
      "execution_count": null,
      "outputs": [
        {
          "output_type": "stream",
          "name": "stdout",
          "text": [
            "MyConvNet(\n",
            "  (conv_layers): Sequential(\n",
            "    (0): Conv2d(1, 32, kernel_size=(5, 5), stride=(1, 1))\n",
            "    (1): ReLU()\n",
            "    (2): MaxPool2d(kernel_size=2, stride=2, padding=0, dilation=1, ceil_mode=False)\n",
            "    (3): Conv2d(32, 64, kernel_size=(5, 5), stride=(1, 1))\n",
            "    (4): ReLU()\n",
            "    (5): MaxPool2d(kernel_size=2, stride=2, padding=0, dilation=1, ceil_mode=False)\n",
            "    (6): Flatten(start_dim=1, end_dim=-1)\n",
            "    (7): Linear(in_features=1024, out_features=512, bias=True)\n",
            "    (8): Linear(in_features=512, out_features=10, bias=True)\n",
            "  )\n",
            ")\n"
          ]
        }
      ]
    },
    {
      "cell_type": "code",
      "metadata": {
        "id": "TZU3HDu0QU4B"
      },
      "source": [
        "optimizer = optim.Adam(model.parameters(), lr=1e-3)\n",
        "\n",
        "criterion = nn.CrossEntropyLoss()"
      ],
      "execution_count": null,
      "outputs": []
    },
    {
      "cell_type": "code",
      "metadata": {
        "id": "b0uJzp41QU4G",
        "colab": {
          "base_uri": "https://localhost:8080/"
        },
        "outputId": "e1413882-f30b-4bb7-ba6a-bc00e0a75529"
      },
      "source": [
        "# training and test\n",
        "\n",
        "# epoch: 10\n",
        "# 이 순서는 무조건 외워둘 것\n",
        "# data dimension: batch_size x Channels x Height x Width (NCHW)\n",
        "for epoch in range(10):\n",
        "    # training phase\n",
        "    # model.train()\n",
        "    current_loss= 0.0\n",
        "    #x크기 (16,1,28,28) -> 16개를 병렬로 돌림.\n",
        "    #target은 (16, 0~10)\n",
        "    for batch_num, (x, target) in enumerate(train_loader):\n",
        "        x, target = x.to(device), target.to(device)\n",
        "\n",
        "        #FP\n",
        "        out = model(x)\n",
        "        loss = criterion(out,target)\n",
        "\n",
        "        #BP\n",
        "        optimizer.zero_grad() #쓰레기값들 지워줌\n",
        "        loss.backward()\n",
        "        optimizer.step()\n",
        "        current_loss += loss\n",
        "\n",
        "        # display the training loss in every 100 batches\n",
        "        if (batch_num+1)%100 == 0 or (batch_num+1)%100 == len(train_loader):\n",
        "            print('epoch: %d, batch_num: %d, current_loss: %.3f' %(epoch, batch_num+1, current_loss/100))\n",
        "            current_loss = 0.0\n",
        "\n",
        "\n",
        "    # test phase\n",
        "    # 미분 계산 X\n",
        "    with torch.no_grad():\n",
        "        # model.eval()\n",
        "        total_samples = 0.0\n",
        "        correct_samples = 0.0\n",
        "        for (x, target) in test_loader:\n",
        "            x, target = x.to(device), target.to(device)\n",
        "            out = model(x)\n",
        "            #제일 높은 걸로 예측\n",
        "            pred = torch.argmax(out,1)\n",
        "            correct_samples += (pred == target).sum() #몇 개 맞혔는지 다 더함\n",
        "        print('Accuracy: %.3f' %(100*float(correct_samples) / float(len(test_data))))\n",
        "\n",
        "\n"
      ],
      "execution_count": null,
      "outputs": [
        {
          "output_type": "stream",
          "name": "stdout",
          "text": [
            "epoch: 0, batch_num: 100, current_loss: 0.911\n",
            "epoch: 0, batch_num: 200, current_loss: 0.597\n",
            "epoch: 0, batch_num: 300, current_loss: 0.549\n",
            "epoch: 0, batch_num: 400, current_loss: 0.495\n",
            "epoch: 0, batch_num: 500, current_loss: 0.435\n",
            "epoch: 0, batch_num: 600, current_loss: 0.417\n",
            "epoch: 0, batch_num: 700, current_loss: 0.382\n",
            "epoch: 0, batch_num: 800, current_loss: 0.372\n",
            "epoch: 0, batch_num: 900, current_loss: 0.376\n",
            "epoch: 0, batch_num: 1000, current_loss: 0.352\n",
            "epoch: 0, batch_num: 1100, current_loss: 0.356\n",
            "epoch: 0, batch_num: 1200, current_loss: 0.353\n",
            "Accuracy: 87.420\n",
            "epoch: 1, batch_num: 100, current_loss: 0.311\n",
            "epoch: 1, batch_num: 200, current_loss: 0.324\n",
            "epoch: 1, batch_num: 300, current_loss: 0.320\n",
            "epoch: 1, batch_num: 400, current_loss: 0.323\n",
            "epoch: 1, batch_num: 500, current_loss: 0.302\n",
            "epoch: 1, batch_num: 600, current_loss: 0.321\n",
            "epoch: 1, batch_num: 700, current_loss: 0.311\n",
            "epoch: 1, batch_num: 800, current_loss: 0.290\n",
            "epoch: 1, batch_num: 900, current_loss: 0.304\n",
            "epoch: 1, batch_num: 1000, current_loss: 0.290\n",
            "epoch: 1, batch_num: 1100, current_loss: 0.311\n",
            "epoch: 1, batch_num: 1200, current_loss: 0.299\n",
            "Accuracy: 88.790\n",
            "epoch: 2, batch_num: 100, current_loss: 0.269\n",
            "epoch: 2, batch_num: 200, current_loss: 0.281\n",
            "epoch: 2, batch_num: 300, current_loss: 0.286\n",
            "epoch: 2, batch_num: 400, current_loss: 0.259\n",
            "epoch: 2, batch_num: 500, current_loss: 0.266\n",
            "epoch: 2, batch_num: 600, current_loss: 0.268\n",
            "epoch: 2, batch_num: 700, current_loss: 0.272\n",
            "epoch: 2, batch_num: 800, current_loss: 0.260\n",
            "epoch: 2, batch_num: 900, current_loss: 0.259\n",
            "epoch: 2, batch_num: 1000, current_loss: 0.268\n",
            "epoch: 2, batch_num: 1100, current_loss: 0.276\n",
            "epoch: 2, batch_num: 1200, current_loss: 0.251\n",
            "Accuracy: 89.220\n",
            "epoch: 3, batch_num: 100, current_loss: 0.239\n",
            "epoch: 3, batch_num: 200, current_loss: 0.213\n",
            "epoch: 3, batch_num: 300, current_loss: 0.236\n",
            "epoch: 3, batch_num: 400, current_loss: 0.248\n",
            "epoch: 3, batch_num: 500, current_loss: 0.237\n",
            "epoch: 3, batch_num: 600, current_loss: 0.238\n",
            "epoch: 3, batch_num: 700, current_loss: 0.239\n",
            "epoch: 3, batch_num: 800, current_loss: 0.237\n",
            "epoch: 3, batch_num: 900, current_loss: 0.237\n",
            "epoch: 3, batch_num: 1000, current_loss: 0.250\n",
            "epoch: 3, batch_num: 1100, current_loss: 0.245\n",
            "epoch: 3, batch_num: 1200, current_loss: 0.256\n",
            "Accuracy: 89.710\n",
            "epoch: 4, batch_num: 100, current_loss: 0.196\n",
            "epoch: 4, batch_num: 200, current_loss: 0.216\n",
            "epoch: 4, batch_num: 300, current_loss: 0.225\n",
            "epoch: 4, batch_num: 400, current_loss: 0.215\n",
            "epoch: 4, batch_num: 500, current_loss: 0.233\n",
            "epoch: 4, batch_num: 600, current_loss: 0.225\n",
            "epoch: 4, batch_num: 700, current_loss: 0.227\n",
            "epoch: 4, batch_num: 800, current_loss: 0.220\n",
            "epoch: 4, batch_num: 900, current_loss: 0.226\n",
            "epoch: 4, batch_num: 1000, current_loss: 0.216\n",
            "epoch: 4, batch_num: 1100, current_loss: 0.226\n",
            "epoch: 4, batch_num: 1200, current_loss: 0.217\n",
            "Accuracy: 90.070\n",
            "epoch: 5, batch_num: 100, current_loss: 0.186\n",
            "epoch: 5, batch_num: 200, current_loss: 0.195\n",
            "epoch: 5, batch_num: 300, current_loss: 0.174\n",
            "epoch: 5, batch_num: 400, current_loss: 0.219\n",
            "epoch: 5, batch_num: 500, current_loss: 0.206\n",
            "epoch: 5, batch_num: 600, current_loss: 0.221\n",
            "epoch: 5, batch_num: 700, current_loss: 0.208\n",
            "epoch: 5, batch_num: 800, current_loss: 0.199\n",
            "epoch: 5, batch_num: 900, current_loss: 0.208\n",
            "epoch: 5, batch_num: 1000, current_loss: 0.193\n",
            "epoch: 5, batch_num: 1100, current_loss: 0.212\n",
            "epoch: 5, batch_num: 1200, current_loss: 0.216\n",
            "Accuracy: 90.320\n",
            "epoch: 6, batch_num: 100, current_loss: 0.172\n",
            "epoch: 6, batch_num: 200, current_loss: 0.167\n",
            "epoch: 6, batch_num: 300, current_loss: 0.185\n",
            "epoch: 6, batch_num: 400, current_loss: 0.190\n",
            "epoch: 6, batch_num: 500, current_loss: 0.187\n",
            "epoch: 6, batch_num: 600, current_loss: 0.185\n",
            "epoch: 6, batch_num: 700, current_loss: 0.186\n",
            "epoch: 6, batch_num: 800, current_loss: 0.192\n",
            "epoch: 6, batch_num: 900, current_loss: 0.191\n",
            "epoch: 6, batch_num: 1000, current_loss: 0.195\n",
            "epoch: 6, batch_num: 1100, current_loss: 0.194\n",
            "epoch: 6, batch_num: 1200, current_loss: 0.197\n",
            "Accuracy: 89.880\n",
            "epoch: 7, batch_num: 100, current_loss: 0.153\n",
            "epoch: 7, batch_num: 200, current_loss: 0.169\n",
            "epoch: 7, batch_num: 300, current_loss: 0.180\n",
            "epoch: 7, batch_num: 400, current_loss: 0.177\n",
            "epoch: 7, batch_num: 500, current_loss: 0.183\n",
            "epoch: 7, batch_num: 600, current_loss: 0.173\n",
            "epoch: 7, batch_num: 700, current_loss: 0.180\n",
            "epoch: 7, batch_num: 800, current_loss: 0.172\n",
            "epoch: 7, batch_num: 900, current_loss: 0.162\n",
            "epoch: 7, batch_num: 1000, current_loss: 0.178\n",
            "epoch: 7, batch_num: 1100, current_loss: 0.183\n",
            "epoch: 7, batch_num: 1200, current_loss: 0.195\n",
            "Accuracy: 89.550\n",
            "epoch: 8, batch_num: 100, current_loss: 0.150\n",
            "epoch: 8, batch_num: 200, current_loss: 0.149\n",
            "epoch: 8, batch_num: 300, current_loss: 0.154\n",
            "epoch: 8, batch_num: 400, current_loss: 0.171\n",
            "epoch: 8, batch_num: 500, current_loss: 0.167\n",
            "epoch: 8, batch_num: 600, current_loss: 0.162\n",
            "epoch: 8, batch_num: 700, current_loss: 0.161\n",
            "epoch: 8, batch_num: 800, current_loss: 0.154\n",
            "epoch: 8, batch_num: 900, current_loss: 0.165\n",
            "epoch: 8, batch_num: 1000, current_loss: 0.164\n",
            "epoch: 8, batch_num: 1100, current_loss: 0.165\n",
            "epoch: 8, batch_num: 1200, current_loss: 0.164\n",
            "Accuracy: 90.540\n",
            "epoch: 9, batch_num: 100, current_loss: 0.139\n",
            "epoch: 9, batch_num: 200, current_loss: 0.139\n",
            "epoch: 9, batch_num: 300, current_loss: 0.144\n",
            "epoch: 9, batch_num: 400, current_loss: 0.141\n",
            "epoch: 9, batch_num: 500, current_loss: 0.151\n",
            "epoch: 9, batch_num: 600, current_loss: 0.157\n",
            "epoch: 9, batch_num: 700, current_loss: 0.162\n",
            "epoch: 9, batch_num: 800, current_loss: 0.138\n",
            "epoch: 9, batch_num: 900, current_loss: 0.161\n",
            "epoch: 9, batch_num: 1000, current_loss: 0.171\n",
            "epoch: 9, batch_num: 1100, current_loss: 0.164\n",
            "epoch: 9, batch_num: 1200, current_loss: 0.166\n",
            "Accuracy: 90.480\n"
          ]
        }
      ]
    },
    {
      "cell_type": "code",
      "metadata": {
        "id": "kdAbm_TvQU4N",
        "colab": {
          "base_uri": "https://localhost:8080/",
          "height": 763
        },
        "outputId": "1156b012-e95f-415d-9b26-21f22d66af5e"
      },
      "source": [
        "# Display Some test results\n",
        "import numpy as np\n",
        "import matplotlib.pyplot as plt\n",
        "\n",
        "classes = [\n",
        "    \"T-shirt/top\",\n",
        "    \"Trouser\",\n",
        "    \"Pullover\",\n",
        "    \"Dress\",\n",
        "    \"Coat\",\n",
        "    \"Sandal\",\n",
        "    \"Shirt\",\n",
        "    \"Sneaker\",\n",
        "    \"Bag\",\n",
        "    \"Ankle boot\",\n",
        "]\n",
        "\n",
        "# take one batch of the data\n",
        "test_data, test_labels = next(iter(test_loader))\n",
        "\n",
        "# if cuda_available:\n",
        "test_data, test_labels = test_data.to(device), test_labels.to(device)\n",
        "out = model(test_data)              # put the test data to the trained network\n",
        "pred = torch.argmax(out,1)          # prediction to the highest probability\n",
        "\n",
        "\n",
        "sample_index = np.random.choice(batch_size, size=12)     # take 12 random sample index\n",
        "num_samples = sample_index.size\n",
        "\n",
        "random_samples = test_data[sample_index].cpu().numpy()\n",
        "\n",
        "plt.figure(figsize=(12, 12))\n",
        "\n",
        "# display test samples\n",
        "for k in range(num_samples):\n",
        "    plt.subplot(4, 4, k + 1)\n",
        "    plt.imshow(random_samples[k].reshape(28, 28),cmap='Greys')\n",
        "    plt.title(\"True: \" + str( classes[test_labels[sample_index[k]].item()]) + \",\\nPred: \" + str(classes[pred[sample_index[k]].item()]))\n",
        "    plt.axis('off')\n",
        "\n",
        "\n",
        "plt.show()"
      ],
      "execution_count": null,
      "outputs": [
        {
          "output_type": "display_data",
          "data": {
            "text/plain": [
              "<Figure size 1200x1200 with 12 Axes>"
            ],
            "image/png": "[encoded data removed]"
          },
          "metadata": {}
        }
      ]
    },
    {
      "cell_type": "code",
      "source": [
        "# save model\n",
        "torch.save(model, root + 'my_CNN_model.pth')\n",
        "\n",
        "# load model\n",
        "# model = torch.load('my_CNN_model.pth')"
      ],
      "metadata": {
        "id": "qhPBxl3OO09E"
      },
      "execution_count": null,
      "outputs": []
    },
    {
      "cell_type": "code",
      "source": [
        "# # save model weights\n",
        "# torch.save(model.state_dict(), 'model_weights.pth')\n",
        "\n",
        "# # load model weights\n",
        "# model = MyConvNet()\n",
        "# model.load_state_dict(torch.load('model_weights.pth'))\n"
      ],
      "metadata": {
        "id": "uLBE-ZKbP0oJ"
      },
      "execution_count": null,
      "outputs": []
    }
  ]
}