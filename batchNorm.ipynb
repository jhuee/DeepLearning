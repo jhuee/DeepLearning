{
  "nbformat": 4,
  "nbformat_minor": 0,
  "metadata": {
    "colab": {
      "provenance": [],
      "authorship_tag": "ABX9TyPgI+F8QUhgWrEgHbFlHaRZ",
      "include_colab_link": true
    },
    "kernelspec": {
      "name": "python3",
      "display_name": "Python 3"
    },
    "language_info": {
      "name": "python"
    }
  },
  "cells": [
    {
      "cell_type": "markdown",
      "metadata": {
        "id": "view-in-github",
        "colab_type": "text"
      },
      "source": [
        "<a href=\"https://colab.research.google.com/github/jhuee/DeepLearning/blob/main/batchNorm.ipynb\" target=\"_parent\"><img src=\"https://colab.research.google.com/assets/colab-badge.svg\" alt=\"Open In Colab\"/></a>"
      ]
    },
    {
      "cell_type": "code",
      "execution_count": 2,
      "metadata": {
        "id": "-zBzyYW7HSHK"
      },
      "outputs": [],
      "source": [
        "import torch\n",
        "import torch.nn as nn"
      ]
    },
    {
      "cell_type": "code",
      "source": [
        "X = torch.tensor([\n",
        "    [1,2,3],\n",
        "    [4,5,6],\n",
        "    [7,8,9]\n",
        "], dtype=torch.float32)\n",
        "\n",
        "print(X.shape)\n",
        "print(X)"
      ],
      "metadata": {
        "colab": {
          "base_uri": "https://localhost:8080/"
        },
        "id": "iqUnHRRxHWa-",
        "outputId": "ab15b277-c321-4f12-beff-87fde1899209"
      },
      "execution_count": 5,
      "outputs": [
        {
          "output_type": "stream",
          "name": "stdout",
          "text": [
            "torch.Size([3, 3])\n",
            "tensor([[1., 2., 3.],\n",
            "        [4., 5., 6.],\n",
            "        [7., 8., 9.]])\n"
          ]
        }
      ]
    },
    {
      "cell_type": "code",
      "source": [
        "bn = nn.BatchNorm1d(3)\n",
        "output_bn = bn(X)\n",
        "print(output_bn)\n"
      ],
      "metadata": {
        "colab": {
          "base_uri": "https://localhost:8080/"
        },
        "id": "j0mRl9DxIkvj",
        "outputId": "83ad7c50-dec2-4bfc-b57a-198a16b2c8cc"
      },
      "execution_count": 6,
      "outputs": [
        {
          "output_type": "stream",
          "name": "stdout",
          "text": [
            "tensor([[-1.2247, -1.2247, -1.2247],\n",
            "        [ 0.0000,  0.0000,  0.0000],\n",
            "        [ 1.2247,  1.2247,  1.2247]], grad_fn=<NativeBatchNormBackward0>)\n"
          ]
        }
      ]
    },
    {
      "cell_type": "code",
      "source": [
        "#직접 구현\n",
        "def batch_norm(X, eps = 1e-5):\n",
        "  mean = X.mean(dim=0, keepdim=True)\n",
        "  var = X.var(dim=0, unbiased=False, keepdim=True)\n",
        "  X_norm = (X - mean) / torch.sqrt(var + eps)\n",
        "  return X_norm\n",
        "\n",
        "print(batch_norm(X))"
      ],
      "metadata": {
        "colab": {
          "base_uri": "https://localhost:8080/"
        },
        "id": "ec1FZglAKAqi",
        "outputId": "3bf023e0-5b31-4400-b03e-95fde08bb313"
      },
      "execution_count": 7,
      "outputs": [
        {
          "output_type": "stream",
          "name": "stdout",
          "text": [
            "tensor([[-1.2247, -1.2247, -1.2247],\n",
            "        [ 0.0000,  0.0000,  0.0000],\n",
            "        [ 1.2247,  1.2247,  1.2247]])\n"
          ]
        }
      ]
    },
    {
      "cell_type": "code",
      "source": [],
      "metadata": {
        "id": "P30b7OTpKlf-"
      },
      "execution_count": null,
      "outputs": []
    }
  ]
}