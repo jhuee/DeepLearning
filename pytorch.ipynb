{
  "nbformat": 4,
  "nbformat_minor": 0,
  "metadata": {
    "colab": {
      "provenance": [],
      "authorship_tag": "ABX9TyPB9w7kN4xkavY1ku7iYjrA",
      "include_colab_link": true
    },
    "kernelspec": {
      "name": "python3",
      "display_name": "Python 3"
    },
    "language_info": {
      "name": "python"
    }
  },
  "cells": [
    {
      "cell_type": "markdown",
      "metadata": {
        "id": "view-in-github",
        "colab_type": "text"
      },
      "source": [
        "<a href=\"https://colab.research.google.com/github/jhuee/DeepLearning/blob/main/pytorch.ipynb\" target=\"_parent\"><img src=\"https://colab.research.google.com/assets/colab-badge.svg\" alt=\"Open In Colab\"/></a>"
      ]
    },
    {
      "cell_type": "code",
      "execution_count": 10,
      "metadata": {
        "id": "JKzitbp5bBUR"
      },
      "outputs": [],
      "source": [
        "import torch\n",
        "import numpy as np"
      ]
    },
    {
      "cell_type": "code",
      "source": [
        "a = [[1,2],[3,4]]"
      ],
      "metadata": {
        "id": "a00QX3C9bc2m"
      },
      "execution_count": 11,
      "outputs": []
    },
    {
      "cell_type": "code",
      "source": [
        "x_data = torch.tensor(a)"
      ],
      "metadata": {
        "id": "0qHRniZSbh-s"
      },
      "execution_count": 12,
      "outputs": []
    },
    {
      "cell_type": "code",
      "source": [
        "x_data"
      ],
      "metadata": {
        "colab": {
          "base_uri": "https://localhost:8080/"
        },
        "id": "HHPVZxP0bmZu",
        "outputId": "4383e962-838a-4110-f8c6-dbe7f044c9fb"
      },
      "execution_count": 13,
      "outputs": [
        {
          "output_type": "execute_result",
          "data": {
            "text/plain": [
              "tensor([[1, 2],\n",
              "        [3, 4]])"
            ]
          },
          "metadata": {},
          "execution_count": 13
        }
      ]
    },
    {
      "cell_type": "code",
      "source": [
        "  b = np.array(a)"
      ],
      "metadata": {
        "id": "fJepDM8WbnnN"
      },
      "execution_count": 14,
      "outputs": []
    },
    {
      "cell_type": "code",
      "source": [
        "torch.tensor(b)"
      ],
      "metadata": {
        "colab": {
          "base_uri": "https://localhost:8080/"
        },
        "id": "JWtqZOSGb49v",
        "outputId": "76164b74-7294-40e1-f1b3-8f98b0ba0154"
      },
      "execution_count": 15,
      "outputs": [
        {
          "output_type": "execute_result",
          "data": {
            "text/plain": [
              "tensor([[1, 2],\n",
              "        [3, 4]])"
            ]
          },
          "metadata": {},
          "execution_count": 15
        }
      ]
    },
    {
      "cell_type": "code",
      "source": [
        "torch.ones_like(x_data)"
      ],
      "metadata": {
        "colab": {
          "base_uri": "https://localhost:8080/"
        },
        "id": "ijdtmtFicAQy",
        "outputId": "c3c7a9a9-39c5-4552-be46-9d70bd6cc89c"
      },
      "execution_count": 16,
      "outputs": [
        {
          "output_type": "execute_result",
          "data": {
            "text/plain": [
              "tensor([[1, 1],\n",
              "        [1, 1]])"
            ]
          },
          "metadata": {},
          "execution_count": 16
        }
      ]
    },
    {
      "cell_type": "code",
      "source": [
        "x_data.shape\n",
        "x_data.dtype\n",
        "x_data.device"
      ],
      "metadata": {
        "colab": {
          "base_uri": "https://localhost:8080/"
        },
        "id": "3dewRhHvcEzG",
        "outputId": "e6629ff3-adaa-4751-81b8-f468d3ce4b51"
      },
      "execution_count": 17,
      "outputs": [
        {
          "output_type": "execute_result",
          "data": {
            "text/plain": [
              "device(type='cpu')"
            ]
          },
          "metadata": {},
          "execution_count": 17
        }
      ]
    },
    {
      "cell_type": "code",
      "source": [
        "torch.cuda.is_available()"
      ],
      "metadata": {
        "colab": {
          "base_uri": "https://localhost:8080/"
        },
        "id": "EE0a1i6dcTXk",
        "outputId": "9c3f7df0-ebd7-49f1-db3d-e1eb83d1bb09"
      },
      "execution_count": 19,
      "outputs": [
        {
          "output_type": "execute_result",
          "data": {
            "text/plain": [
              "False"
            ]
          },
          "metadata": {},
          "execution_count": 19
        }
      ]
    },
    {
      "cell_type": "code",
      "source": [
        "x_Data.to('cuda') #GPU로 보내고 싶을 때"
      ],
      "metadata": {
        "colab": {
          "base_uri": "https://localhost:8080/",
          "height": 149
        },
        "id": "rQH2fD28cevO",
        "outputId": "c26271a1-c458-42f2-bb64-8bbed0406236"
      },
      "execution_count": 20,
      "outputs": [
        {
          "output_type": "error",
          "ename": "NameError",
          "evalue": "name 'x_Data' is not defined",
          "traceback": [
            "\u001b[0;31m---------------------------------------------------------------------------\u001b[0m",
            "\u001b[0;31mNameError\u001b[0m                                 Traceback (most recent call last)",
            "\u001b[0;32m<ipython-input-20-064f9f4674ec>\u001b[0m in \u001b[0;36m<cell line: 1>\u001b[0;34m()\u001b[0m\n\u001b[0;32m----> 1\u001b[0;31m \u001b[0mx_Data\u001b[0m\u001b[0;34m.\u001b[0m\u001b[0mto\u001b[0m\u001b[0;34m(\u001b[0m\u001b[0;34m'cuda'\u001b[0m\u001b[0;34m)\u001b[0m\u001b[0;34m\u001b[0m\u001b[0;34m\u001b[0m\u001b[0m\n\u001b[0m",
            "\u001b[0;31mNameError\u001b[0m: name 'x_Data' is not defined"
          ]
        }
      ]
    },
    {
      "cell_type": "code",
      "source": [
        "#.T는 transpose\n",
        "#문법이 numpy랑 비슷한 게 많다."
      ],
      "metadata": {
        "id": "u3jqTqQfcsVm"
      },
      "execution_count": 21,
      "outputs": []
    },
    {
      "cell_type": "code",
      "source": [
        "from torch.utils.data import Dataset\n",
        "from torchvision import datasets\n",
        "from torchvision.transforms import ToTensor, Lambda\n",
        "import matplotlib.pyplot as plt"
      ],
      "metadata": {
        "id": "cmmPc1mvdI_d"
      },
      "execution_count": 26,
      "outputs": []
    },
    {
      "cell_type": "code",
      "source": [
        "training_data = datasets.FashionMNIST( root = 'data', train = True, download = True, transform = ToTensor())"
      ],
      "metadata": {
        "colab": {
          "base_uri": "https://localhost:8080/"
        },
        "id": "Q3Yw-AqtdTc1",
        "outputId": "acabe4c8-833d-49c6-be69-747d99702a1d"
      },
      "execution_count": 28,
      "outputs": [
        {
          "output_type": "stream",
          "name": "stdout",
          "text": [
            "Downloading http://fashion-mnist.s3-website.eu-central-1.amazonaws.com/train-images-idx3-ubyte.gz\n",
            "Downloading http://fashion-mnist.s3-website.eu-central-1.amazonaws.com/train-images-idx3-ubyte.gz to data/FashionMNIST/raw/train-images-idx3-ubyte.gz\n"
          ]
        },
        {
          "output_type": "stream",
          "name": "stderr",
          "text": [
            "100%|██████████| 26421880/26421880 [00:01<00:00, 18779811.77it/s]\n"
          ]
        },
        {
          "output_type": "stream",
          "name": "stdout",
          "text": [
            "Extracting data/FashionMNIST/raw/train-images-idx3-ubyte.gz to data/FashionMNIST/raw\n",
            "\n",
            "Downloading http://fashion-mnist.s3-website.eu-central-1.amazonaws.com/train-labels-idx1-ubyte.gz\n",
            "Downloading http://fashion-mnist.s3-website.eu-central-1.amazonaws.com/train-labels-idx1-ubyte.gz to data/FashionMNIST/raw/train-labels-idx1-ubyte.gz\n"
          ]
        },
        {
          "output_type": "stream",
          "name": "stderr",
          "text": [
            "100%|██████████| 29515/29515 [00:00<00:00, 348720.93it/s]\n"
          ]
        },
        {
          "output_type": "stream",
          "name": "stdout",
          "text": [
            "Extracting data/FashionMNIST/raw/train-labels-idx1-ubyte.gz to data/FashionMNIST/raw\n",
            "\n",
            "Downloading http://fashion-mnist.s3-website.eu-central-1.amazonaws.com/t10k-images-idx3-ubyte.gz\n",
            "Downloading http://fashion-mnist.s3-website.eu-central-1.amazonaws.com/t10k-images-idx3-ubyte.gz to data/FashionMNIST/raw/t10k-images-idx3-ubyte.gz\n"
          ]
        },
        {
          "output_type": "stream",
          "name": "stderr",
          "text": [
            "100%|██████████| 4422102/4422102 [00:00<00:00, 6161421.24it/s]\n"
          ]
        },
        {
          "output_type": "stream",
          "name": "stdout",
          "text": [
            "Extracting data/FashionMNIST/raw/t10k-images-idx3-ubyte.gz to data/FashionMNIST/raw\n",
            "\n",
            "Downloading http://fashion-mnist.s3-website.eu-central-1.amazonaws.com/t10k-labels-idx1-ubyte.gz\n",
            "Downloading http://fashion-mnist.s3-website.eu-central-1.amazonaws.com/t10k-labels-idx1-ubyte.gz to data/FashionMNIST/raw/t10k-labels-idx1-ubyte.gz\n"
          ]
        },
        {
          "output_type": "stream",
          "name": "stderr",
          "text": [
            "100%|██████████| 5148/5148 [00:00<00:00, 17844857.02it/s]"
          ]
        },
        {
          "output_type": "stream",
          "name": "stdout",
          "text": [
            "Extracting data/FashionMNIST/raw/t10k-labels-idx1-ubyte.gz to data/FashionMNIST/raw\n",
            "\n"
          ]
        },
        {
          "output_type": "stream",
          "name": "stderr",
          "text": [
            "\n"
          ]
        }
      ]
    },
    {
      "cell_type": "code",
      "source": [
        "test_data = datasets.FashionMNIST( root = 'data', train = False, download = True, transform = ToTensor())"
      ],
      "metadata": {
        "id": "q_VEw7vzePH2"
      },
      "execution_count": 29,
      "outputs": []
    },
    {
      "cell_type": "code",
      "source": [
        "#annotiationfile : label이 붙은 파일\n",
        "#무조건 해야한 것, init, len, getitem(index) 이 세개를 오버라이드 해줘야 로컬에서 사용 가능하다.\n",
        "#x는 학습데이터, y는 라벨을 로드를 하고 코드를 짜주면 된다\n",
        "#그 다음에 Dataloader에 넣어준다.\n"
      ],
      "metadata": {
        "id": "pv8iXz3jebA8"
      },
      "execution_count": null,
      "outputs": []
    },
    {
      "cell_type": "markdown",
      "source": [
        "# Dataloader의 역할\n",
        "1. batch\n",
        "  - 배치로 잘라주는 역할을 dataloader가 하며 한 바퀴 도는 게 1 epoch\n",
        "2. shuffling\n",
        "  - 순서도 외우기 때문에 순서도 섞어준다. 1epoch 돌 때마다 셔플 돌리기\n",
        "  - test 할 때는 별로 상관 없음\n"
      ],
      "metadata": {
        "id": "DPkDXtpmfVF9"
      }
    },
    {
      "cell_type": "code",
      "source": [],
      "metadata": {
        "id": "5C9G7KAHgAOX"
      },
      "execution_count": null,
      "outputs": []
    },
    {
      "cell_type": "markdown",
      "source": [
        "# Define the Class\n",
        "  1. init로 레이어 정의해주기\n",
        "    - nn.Module로 ?\n",
        "    - 선형 -> Relu -> 선형으로 레이어를 쌓아 올린다.\n",
        "  2. foward\n",
        "    - slef, x를 입력값으로 받는다.\n",
        "    - 입력이 들어오면 어떤 레이어를 거쳐 값이 나오는지 foward한다.\n",
        "    - 다음주 구현"
      ],
      "metadata": {
        "id": "tRVhchR9gHrr"
      }
    },
    {
      "cell_type": "markdown",
      "source": [
        "# loss_fn\n",
        " 상속 받지 않고 직접 구현해도 됨\n",
        "\n",
        "\n",
        "# Optimizer\n",
        "1. torch.optim.SGD로 SGD 쓰기\n",
        "2. 혹은 torch.optim.ADAM\n",
        "3. ADAM이나 ADAMW일 경우 lr = le^{-3}\n"
      ],
      "metadata": {
        "id": "rwhu2PclgvXp"
      }
    },
    {
      "cell_type": "markdown",
      "source": [
        "# 학습 방법\n",
        "1. dataloader를 for문에 넣으면 모델에 X를 넣게 되면 f(X)가 나온다.\n",
        "2. Loss에 대한 미분값 계산 -> Backpropagation\n",
        "  - zero로 비워주기\n",
        "  - loss backward\n",
        "  - 미분값 계산\n",
        "\n",
        "1~2가 1epoch\n",
        "\n",
        "3. batch%100\n",
        "  - loss 가 줄어드고 있는지 확인"
      ],
      "metadata": {
        "id": "V7mYC82ahvKi"
      }
    },
    {
      "cell_type": "markdown",
      "source": [
        "#Save and Loading Models\n",
        "1. torch.save하고\n",
        "2. torch.load\n",
        "아키텍처가 같이 저장 돼서 용량이 큼\n",
        "\n",
        "1. torch.salve(model.state_dict(), 'model_weights.pth')\n",
        "-> 용량 작게, 아키텍처 버림"
      ],
      "metadata": {
        "id": "KAWAX5b3hvcG"
      }
    }
  ]
}