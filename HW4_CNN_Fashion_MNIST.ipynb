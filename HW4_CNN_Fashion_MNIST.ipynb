{
  "nbformat": 4,
  "nbformat_minor": 0,
  "metadata": {
    "colab": {
      "provenance": [],
      "include_colab_link": true
    },
    "kernelspec": {
      "name": "python3",
      "display_name": "Python 3"
    },
    "accelerator": "GPU",
    "gpuClass": "standard"
  },
  "cells": [
    {
      "cell_type": "markdown",
      "metadata": {
        "id": "view-in-github",
        "colab_type": "text"
      },
      "source": [
        "<a href=\"https://colab.research.google.com/github/jhuee/DeepLearning/blob/main/HW4_CNN_Fashion_MNIST.ipynb\" target=\"_parent\"><img src=\"https://colab.research.google.com/assets/colab-badge.svg\" alt=\"Open In Colab\"/></a>"
      ]
    },
    {
      "cell_type": "code",
      "metadata": {
        "id": "X5cGnvi7A3Un",
        "colab": {
          "base_uri": "https://localhost:8080/"
        },
        "outputId": "12f945e5-8334-4dda-a827-4d352a063bef"
      },
      "source": [
        "!nvidia-smi"
      ],
      "execution_count": 5,
      "outputs": [
        {
          "output_type": "stream",
          "name": "stdout",
          "text": [
            "Mon Apr 15 12:36:16 2024       \n",
            "+---------------------------------------------------------------------------------------+\n",
            "| NVIDIA-SMI 535.104.05             Driver Version: 535.104.05   CUDA Version: 12.2     |\n",
            "|-----------------------------------------+----------------------+----------------------+\n",
            "| GPU  Name                 Persistence-M | Bus-Id        Disp.A | Volatile Uncorr. ECC |\n",
            "| Fan  Temp   Perf          Pwr:Usage/Cap |         Memory-Usage | GPU-Util  Compute M. |\n",
            "|                                         |                      |               MIG M. |\n",
            "|=========================================+======================+======================|\n",
            "|   0  Tesla T4                       Off | 00000000:00:04.0 Off |                    0 |\n",
            "| N/A   36C    P8               9W /  70W |      0MiB / 15360MiB |      0%      Default |\n",
            "|                                         |                      |                  N/A |\n",
            "+-----------------------------------------+----------------------+----------------------+\n",
            "                                                                                         \n",
            "+---------------------------------------------------------------------------------------+\n",
            "| Processes:                                                                            |\n",
            "|  GPU   GI   CI        PID   Type   Process name                            GPU Memory |\n",
            "|        ID   ID                                                             Usage      |\n",
            "|=======================================================================================|\n",
            "|  No running processes found                                                           |\n",
            "+---------------------------------------------------------------------------------------+\n"
          ]
        }
      ]
    },
    {
      "cell_type": "code",
      "metadata": {
        "id": "0Y2OsX2EQU3v",
        "colab": {
          "base_uri": "https://localhost:8080/"
        },
        "outputId": "a4a89d48-12ab-4ad6-b5ce-f910bd066417"
      },
      "source": [
        "import os\n",
        "import torch\n",
        "import torch.nn as nn\n",
        "import torch.optim as optim\n",
        "import torchvision.datasets as datasets\n",
        "import torchvision.transforms as transforms\n",
        "\n",
        "# This mounts your google drive storage to this code\n",
        "from google.colab import drive\n",
        "drive.mount('/content/gdrive')\n"
      ],
      "execution_count": 6,
      "outputs": [
        {
          "output_type": "stream",
          "name": "stdout",
          "text": [
            "Mounted at /content/gdrive\n"
          ]
        }
      ]
    },
    {
      "cell_type": "code",
      "metadata": {
        "id": "AryDcrN7QU31",
        "colab": {
          "base_uri": "https://localhost:8080/"
        },
        "outputId": "66cd0ba6-c3b8-4f2a-c92d-dda8a606ca7a"
      },
      "source": [
        "device = \"cuda\" if torch.cuda.is_available() else \"cpu\"\n",
        "print(f\"Using {device} device\")\n",
        "\n",
        "root = '/content/gdrive/My Drive/Test/'\n",
        "\n",
        "# root = './'\n",
        "# if not os.path.exists(root):\n",
        "#     os.makedirs(root)"
      ],
      "execution_count": 7,
      "outputs": [
        {
          "output_type": "stream",
          "name": "stdout",
          "text": [
            "Using cuda device\n"
          ]
        }
      ]
    },
    {
      "cell_type": "code",
      "metadata": {
        "id": "6HVAXJ7DQU35",
        "colab": {
          "base_uri": "https://localhost:8080/"
        },
        "outputId": "76fb1359-f5e7-4103-8740-e49a534ea833"
      },
      "source": [
        "# settings for data normalization\n",
        "# trans = transforms.Compose([transform.ToTensor(), transform.Normalize((0.5,),(1.0,))])\n",
        "trans = transforms.ToTensor()\n",
        "# trans = transforms.Compose([transforms.ToTensor(), transforms.RandomHorizontalFlip()])\n",
        "\n",
        "\n",
        "train_data = datasets.FashionMNIST(\n",
        "    root=root,\n",
        "    train=True,\n",
        "    download=True,\n",
        "    transform=trans,\n",
        ")\n",
        "\n",
        "test_data = datasets.FashionMNIST(\n",
        "    root=root,\n",
        "    train=False,\n",
        "    download=True,\n",
        "    transform=trans,\n",
        ")\n",
        "\n",
        "\n",
        "batch_size = 50\n",
        "train_loader = torch.utils.data.DataLoader(train_data,batch_size=batch_size,shuffle=True)\n",
        "test_loader = torch.utils.data.DataLoader(test_data,batch_size=batch_size,shuffle=False)\n"
      ],
      "execution_count": 8,
      "outputs": [
        {
          "output_type": "stream",
          "name": "stdout",
          "text": [
            "Downloading http://fashion-mnist.s3-website.eu-central-1.amazonaws.com/train-images-idx3-ubyte.gz\n",
            "Downloading http://fashion-mnist.s3-website.eu-central-1.amazonaws.com/train-images-idx3-ubyte.gz to /content/gdrive/My Drive/Test/FashionMNIST/raw/train-images-idx3-ubyte.gz\n"
          ]
        },
        {
          "output_type": "stream",
          "name": "stderr",
          "text": [
            "100%|██████████| 26421880/26421880 [00:02<00:00, 12422601.79it/s]\n"
          ]
        },
        {
          "output_type": "stream",
          "name": "stdout",
          "text": [
            "Extracting /content/gdrive/My Drive/Test/FashionMNIST/raw/train-images-idx3-ubyte.gz to /content/gdrive/My Drive/Test/FashionMNIST/raw\n",
            "\n",
            "Downloading http://fashion-mnist.s3-website.eu-central-1.amazonaws.com/train-labels-idx1-ubyte.gz\n",
            "Downloading http://fashion-mnist.s3-website.eu-central-1.amazonaws.com/train-labels-idx1-ubyte.gz to /content/gdrive/My Drive/Test/FashionMNIST/raw/train-labels-idx1-ubyte.gz\n"
          ]
        },
        {
          "output_type": "stream",
          "name": "stderr",
          "text": [
            "100%|██████████| 29515/29515 [00:00<00:00, 220506.69it/s]\n"
          ]
        },
        {
          "output_type": "stream",
          "name": "stdout",
          "text": [
            "Extracting /content/gdrive/My Drive/Test/FashionMNIST/raw/train-labels-idx1-ubyte.gz to /content/gdrive/My Drive/Test/FashionMNIST/raw\n",
            "\n",
            "Downloading http://fashion-mnist.s3-website.eu-central-1.amazonaws.com/t10k-images-idx3-ubyte.gz\n",
            "Downloading http://fashion-mnist.s3-website.eu-central-1.amazonaws.com/t10k-images-idx3-ubyte.gz to /content/gdrive/My Drive/Test/FashionMNIST/raw/t10k-images-idx3-ubyte.gz\n"
          ]
        },
        {
          "output_type": "stream",
          "name": "stderr",
          "text": [
            "100%|██████████| 4422102/4422102 [00:01<00:00, 3842376.66it/s]\n"
          ]
        },
        {
          "output_type": "stream",
          "name": "stdout",
          "text": [
            "Extracting /content/gdrive/My Drive/Test/FashionMNIST/raw/t10k-images-idx3-ubyte.gz to /content/gdrive/My Drive/Test/FashionMNIST/raw\n",
            "\n",
            "Downloading http://fashion-mnist.s3-website.eu-central-1.amazonaws.com/t10k-labels-idx1-ubyte.gz\n",
            "Downloading http://fashion-mnist.s3-website.eu-central-1.amazonaws.com/t10k-labels-idx1-ubyte.gz to /content/gdrive/My Drive/Test/FashionMNIST/raw/t10k-labels-idx1-ubyte.gz\n"
          ]
        },
        {
          "output_type": "stream",
          "name": "stderr",
          "text": [
            "100%|██████████| 5148/5148 [00:00<00:00, 6772985.25it/s]"
          ]
        },
        {
          "output_type": "stream",
          "name": "stdout",
          "text": [
            "Extracting /content/gdrive/My Drive/Test/FashionMNIST/raw/t10k-labels-idx1-ubyte.gz to /content/gdrive/My Drive/Test/FashionMNIST/raw\n",
            "\n"
          ]
        },
        {
          "output_type": "stream",
          "name": "stderr",
          "text": [
            "\n"
          ]
        }
      ]
    },
    {
      "cell_type": "code",
      "source": [
        "# Linear Classification\n",
        "class LinearClassification(nn.Module):\n",
        "    def __init__(self):\n",
        "        super().__init__()\n",
        "        self.flatten = nn.Flatten()\n",
        "        self.linear = nn.Sequential(\n",
        "            nn.Linear(28*28, 10),\n",
        "        )\n",
        "\n",
        "    def forward(self, x):\n",
        "        x = self.flatten(x)\n",
        "        logits = self.linear(x)\n",
        "        return logits\n",
        "\n",
        "model = LinearClassification().to(device)\n",
        "print(model)\n"
      ],
      "metadata": {
        "id": "wdDmKu9z_eu3",
        "colab": {
          "base_uri": "https://localhost:8080/"
        },
        "outputId": "49e5610c-8c0c-41f4-c602-560e270abb1f"
      },
      "execution_count": 9,
      "outputs": [
        {
          "output_type": "stream",
          "name": "stdout",
          "text": [
            "LinearClassification(\n",
            "  (flatten): Flatten(start_dim=1, end_dim=-1)\n",
            "  (linear): Sequential(\n",
            "    (0): Linear(in_features=784, out_features=10, bias=True)\n",
            "  )\n",
            ")\n"
          ]
        }
      ]
    },
    {
      "cell_type": "code",
      "source": [
        "# # Multi-layer Perceptron\n",
        "# class NeuralNetwork(nn.Module):\n",
        "#     def __init__(self):\n",
        "#         super().__init__()\n",
        "#         self.flatten = nn.Flatten()\n",
        "#         self.linear_relu_stack = nn.Sequential(\n",
        "#             nn.Linear(28*28, 512),\n",
        "#             nn.ReLU(),\n",
        "#             nn.Linear(512, 512),\n",
        "#             nn.ReLU(),\n",
        "#             nn.Linear(512, 10)\n",
        "#         )\n",
        "\n",
        "#     def forward(self, x):\n",
        "#         x = self.flatten(x)\n",
        "#         logits = self.linear_relu_stack(x)\n",
        "#         return logits\n",
        "\n",
        "# model = NeuralNetwork().to(device)\n",
        "# print(model)\n"
      ],
      "metadata": {
        "id": "bhPn_4CvsfV9"
      },
      "execution_count": 10,
      "outputs": []
    },
    {
      "cell_type": "code",
      "metadata": {
        "id": "n4kyTJnAQU39"
      },
      "source": [
        "# # define the CNN:\n",
        "# # two convolution layers followed by two linear layers\n",
        "\n",
        "# class MyConvNet(nn.Module):   # nn.Module should be inherited for the neural network configuration so that it can work with backpropagation APIs\n",
        "#     def __init__(self):    # define layers: two conv layers and two linear (fully connected) layers\n",
        "#         super(MyConvNet, self).__init__()\n",
        "#         self.conv_layers = nn.Sequential(\n",
        "#             nn.Conv2d(1, 32, 5),\n",
        "#             nn.ReLU(),\n",
        "#             nn.MaxPool2d(2,2),\n",
        "#             nn.Conv2d(32, 64, 5),\n",
        "#             nn.ReLU(),\n",
        "#             nn.MaxPool2d(2,2),\n",
        "#             nn.Flatten(),\n",
        "#             nn.Linear(4*4*64, 512),\n",
        "#             nn.Linear(512, 10)\n",
        "#         )\n",
        "\n",
        "#     # network connection: two conv layers, each followed by relu and max-pooling with (2x2) kernel, and two linear layer\n",
        "#     def forward(self, x):\n",
        "#         logits = self.conv_layers(x)\n",
        "#         return(logits)\n",
        "\n",
        "\n",
        "# # generate neural net model\n",
        "# model = MyConvNet().to(device)\n",
        "# print(model)\n"
      ],
      "execution_count": 11,
      "outputs": []
    },
    {
      "cell_type": "code",
      "metadata": {
        "id": "TZU3HDu0QU4B"
      },
      "source": [
        "optimizer = optim.SGD(model.parameters(), lr=1e-3)\n",
        "\n",
        "criterion = nn.CrossEntropyLoss()"
      ],
      "execution_count": 12,
      "outputs": []
    },
    {
      "cell_type": "code",
      "metadata": {
        "id": "b0uJzp41QU4G",
        "colab": {
          "base_uri": "https://localhost:8080/"
        },
        "outputId": "79e41c33-04d2-4be3-84f0-e52728598774"
      },
      "source": [
        "# training and test\n",
        "\n",
        "# epoch: 10\n",
        "# data dimension: batch_size x Channels x Height x Width (NCHW)\n",
        "for epoch in range(10):\n",
        "    # training phase\n",
        "    # model.train()\n",
        "    current_loss= 0.0\n",
        "    for batch_num, (x, target) in enumerate(train_loader):\n",
        "        x, target = x.to(device), target.to(device)\n",
        "\n",
        "        out = model(x)\n",
        "        loss = criterion(out,target)\n",
        "\n",
        "        optimizer.zero_grad()\n",
        "        loss.backward()\n",
        "        optimizer.step()\n",
        "        current_loss += loss\n",
        "\n",
        "        # display the training loss in every 100 batches\n",
        "        if (batch_num+1)%100 == 0 or (batch_num+1)%100 == len(train_loader):\n",
        "            print('epoch: %d, batch_num: %d, current_loss: %.3f' %(epoch, batch_num+1, current_loss/100))\n",
        "            current_loss = 0.0\n",
        "\n",
        "\n",
        "    # test phase\n",
        "    with torch.no_grad():\n",
        "        # model.eval()\n",
        "        total_samples = 0.0\n",
        "        correct_samples = 0.0\n",
        "        for (x, target) in test_loader:\n",
        "            x, target = x.to(device), target.to(device)\n",
        "            out = model(x)\n",
        "            pred = torch.argmax(out,1)\n",
        "            correct_samples += (pred == target).sum()\n",
        "        print('Accuracy: %.3f' %(100*float(correct_samples) / float(len(test_data))))\n",
        "\n",
        "\n"
      ],
      "execution_count": 13,
      "outputs": [
        {
          "output_type": "stream",
          "name": "stdout",
          "text": [
            "epoch: 0, batch_num: 100, current_loss: 2.202\n",
            "epoch: 0, batch_num: 200, current_loss: 2.015\n",
            "epoch: 0, batch_num: 300, current_loss: 1.872\n",
            "epoch: 0, batch_num: 400, current_loss: 1.760\n",
            "epoch: 0, batch_num: 500, current_loss: 1.655\n",
            "epoch: 0, batch_num: 600, current_loss: 1.572\n",
            "epoch: 0, batch_num: 700, current_loss: 1.517\n",
            "epoch: 0, batch_num: 800, current_loss: 1.443\n",
            "epoch: 0, batch_num: 900, current_loss: 1.377\n",
            "epoch: 0, batch_num: 1000, current_loss: 1.343\n",
            "epoch: 0, batch_num: 1100, current_loss: 1.301\n",
            "epoch: 0, batch_num: 1200, current_loss: 1.257\n",
            "Accuracy: 65.950\n",
            "epoch: 1, batch_num: 100, current_loss: 1.229\n",
            "epoch: 1, batch_num: 200, current_loss: 1.207\n",
            "epoch: 1, batch_num: 300, current_loss: 1.177\n",
            "epoch: 1, batch_num: 400, current_loss: 1.163\n",
            "epoch: 1, batch_num: 500, current_loss: 1.128\n",
            "epoch: 1, batch_num: 600, current_loss: 1.105\n",
            "epoch: 1, batch_num: 700, current_loss: 1.089\n",
            "epoch: 1, batch_num: 800, current_loss: 1.065\n",
            "epoch: 1, batch_num: 900, current_loss: 1.050\n",
            "epoch: 1, batch_num: 1000, current_loss: 1.046\n",
            "epoch: 1, batch_num: 1100, current_loss: 1.040\n",
            "epoch: 1, batch_num: 1200, current_loss: 1.011\n",
            "Accuracy: 68.510\n",
            "epoch: 2, batch_num: 100, current_loss: 1.009\n",
            "epoch: 2, batch_num: 200, current_loss: 0.996\n",
            "epoch: 2, batch_num: 300, current_loss: 0.974\n",
            "epoch: 2, batch_num: 400, current_loss: 0.979\n",
            "epoch: 2, batch_num: 500, current_loss: 0.959\n",
            "epoch: 2, batch_num: 600, current_loss: 0.938\n",
            "epoch: 2, batch_num: 700, current_loss: 0.952\n",
            "epoch: 2, batch_num: 800, current_loss: 0.942\n",
            "epoch: 2, batch_num: 900, current_loss: 0.924\n",
            "epoch: 2, batch_num: 1000, current_loss: 0.920\n",
            "epoch: 2, batch_num: 1100, current_loss: 0.907\n",
            "epoch: 2, batch_num: 1200, current_loss: 0.919\n",
            "Accuracy: 70.850\n",
            "epoch: 3, batch_num: 100, current_loss: 0.896\n",
            "epoch: 3, batch_num: 200, current_loss: 0.910\n",
            "epoch: 3, batch_num: 300, current_loss: 0.881\n",
            "epoch: 3, batch_num: 400, current_loss: 0.893\n",
            "epoch: 3, batch_num: 500, current_loss: 0.875\n",
            "epoch: 3, batch_num: 600, current_loss: 0.873\n",
            "epoch: 3, batch_num: 700, current_loss: 0.860\n",
            "epoch: 3, batch_num: 800, current_loss: 0.873\n",
            "epoch: 3, batch_num: 900, current_loss: 0.845\n",
            "epoch: 3, batch_num: 1000, current_loss: 0.838\n",
            "epoch: 3, batch_num: 1100, current_loss: 0.845\n",
            "epoch: 3, batch_num: 1200, current_loss: 0.849\n",
            "Accuracy: 72.420\n",
            "epoch: 4, batch_num: 100, current_loss: 0.828\n",
            "epoch: 4, batch_num: 200, current_loss: 0.838\n",
            "epoch: 4, batch_num: 300, current_loss: 0.830\n",
            "epoch: 4, batch_num: 400, current_loss: 0.816\n",
            "epoch: 4, batch_num: 500, current_loss: 0.820\n",
            "epoch: 4, batch_num: 600, current_loss: 0.833\n",
            "epoch: 4, batch_num: 700, current_loss: 0.809\n",
            "epoch: 4, batch_num: 800, current_loss: 0.833\n",
            "epoch: 4, batch_num: 900, current_loss: 0.799\n",
            "epoch: 4, batch_num: 1000, current_loss: 0.795\n",
            "epoch: 4, batch_num: 1100, current_loss: 0.805\n",
            "epoch: 4, batch_num: 1200, current_loss: 0.802\n",
            "Accuracy: 73.570\n",
            "epoch: 5, batch_num: 100, current_loss: 0.801\n",
            "epoch: 5, batch_num: 200, current_loss: 0.798\n",
            "epoch: 5, batch_num: 300, current_loss: 0.786\n",
            "epoch: 5, batch_num: 400, current_loss: 0.797\n",
            "epoch: 5, batch_num: 500, current_loss: 0.788\n",
            "epoch: 5, batch_num: 600, current_loss: 0.791\n",
            "epoch: 5, batch_num: 700, current_loss: 0.762\n",
            "epoch: 5, batch_num: 800, current_loss: 0.777\n",
            "epoch: 5, batch_num: 900, current_loss: 0.760\n",
            "epoch: 5, batch_num: 1000, current_loss: 0.770\n",
            "epoch: 5, batch_num: 1100, current_loss: 0.777\n",
            "epoch: 5, batch_num: 1200, current_loss: 0.749\n",
            "Accuracy: 74.480\n",
            "epoch: 6, batch_num: 100, current_loss: 0.773\n",
            "epoch: 6, batch_num: 200, current_loss: 0.755\n",
            "epoch: 6, batch_num: 300, current_loss: 0.757\n",
            "epoch: 6, batch_num: 400, current_loss: 0.756\n",
            "epoch: 6, batch_num: 500, current_loss: 0.747\n",
            "epoch: 6, batch_num: 600, current_loss: 0.760\n",
            "epoch: 6, batch_num: 700, current_loss: 0.745\n",
            "epoch: 6, batch_num: 800, current_loss: 0.744\n",
            "epoch: 6, batch_num: 900, current_loss: 0.743\n",
            "epoch: 6, batch_num: 1000, current_loss: 0.730\n",
            "epoch: 6, batch_num: 1100, current_loss: 0.745\n",
            "epoch: 6, batch_num: 1200, current_loss: 0.754\n",
            "Accuracy: 75.420\n",
            "epoch: 7, batch_num: 100, current_loss: 0.736\n",
            "epoch: 7, batch_num: 200, current_loss: 0.742\n",
            "epoch: 7, batch_num: 300, current_loss: 0.730\n",
            "epoch: 7, batch_num: 400, current_loss: 0.742\n",
            "epoch: 7, batch_num: 500, current_loss: 0.729\n",
            "epoch: 7, batch_num: 600, current_loss: 0.719\n",
            "epoch: 7, batch_num: 700, current_loss: 0.727\n",
            "epoch: 7, batch_num: 800, current_loss: 0.720\n",
            "epoch: 7, batch_num: 900, current_loss: 0.708\n",
            "epoch: 7, batch_num: 1000, current_loss: 0.715\n",
            "epoch: 7, batch_num: 1100, current_loss: 0.741\n",
            "epoch: 7, batch_num: 1200, current_loss: 0.719\n",
            "Accuracy: 76.200\n",
            "epoch: 8, batch_num: 100, current_loss: 0.713\n",
            "epoch: 8, batch_num: 200, current_loss: 0.720\n",
            "epoch: 8, batch_num: 300, current_loss: 0.722\n",
            "epoch: 8, batch_num: 400, current_loss: 0.712\n",
            "epoch: 8, batch_num: 500, current_loss: 0.704\n",
            "epoch: 8, batch_num: 600, current_loss: 0.715\n",
            "epoch: 8, batch_num: 700, current_loss: 0.715\n",
            "epoch: 8, batch_num: 800, current_loss: 0.694\n",
            "epoch: 8, batch_num: 900, current_loss: 0.696\n",
            "epoch: 8, batch_num: 1000, current_loss: 0.706\n",
            "epoch: 8, batch_num: 1100, current_loss: 0.699\n",
            "epoch: 8, batch_num: 1200, current_loss: 0.701\n",
            "Accuracy: 76.440\n",
            "epoch: 9, batch_num: 100, current_loss: 0.695\n",
            "epoch: 9, batch_num: 200, current_loss: 0.702\n",
            "epoch: 9, batch_num: 300, current_loss: 0.706\n",
            "epoch: 9, batch_num: 400, current_loss: 0.708\n",
            "epoch: 9, batch_num: 500, current_loss: 0.703\n",
            "epoch: 9, batch_num: 600, current_loss: 0.684\n",
            "epoch: 9, batch_num: 700, current_loss: 0.695\n",
            "epoch: 9, batch_num: 800, current_loss: 0.696\n",
            "epoch: 9, batch_num: 900, current_loss: 0.659\n",
            "epoch: 9, batch_num: 1000, current_loss: 0.679\n",
            "epoch: 9, batch_num: 1100, current_loss: 0.695\n",
            "epoch: 9, batch_num: 1200, current_loss: 0.677\n",
            "Accuracy: 77.100\n"
          ]
        }
      ]
    },
    {
      "cell_type": "code",
      "metadata": {
        "id": "kdAbm_TvQU4N",
        "colab": {
          "base_uri": "https://localhost:8080/",
          "height": 763
        },
        "outputId": "1bed7791-d1a4-491d-9d15-76a404e17814"
      },
      "source": [
        "# Display Some test results\n",
        "import numpy as np\n",
        "import matplotlib.pyplot as plt\n",
        "\n",
        "classes = [\n",
        "    \"T-shirt/top\",\n",
        "    \"Trouser\",\n",
        "    \"Pullover\",\n",
        "    \"Dress\",\n",
        "    \"Coat\",\n",
        "    \"Sandal\",\n",
        "    \"Shirt\",\n",
        "    \"Sneaker\",\n",
        "    \"Bag\",\n",
        "    \"Ankle boot\",\n",
        "]\n",
        "\n",
        "# take one batch of the data\n",
        "test_data, test_labels = next(iter(test_loader))\n",
        "\n",
        "# if cuda_available:\n",
        "test_data, test_labels = test_data.to(device), test_labels.to(device)\n",
        "out = model(test_data)              # put the test data to the trained network\n",
        "pred = torch.argmax(out,1)          # prediction to the highest probability\n",
        "\n",
        "\n",
        "sample_index = np.random.choice(batch_size, size=12)     # take 12 random sample index\n",
        "num_samples = sample_index.size\n",
        "\n",
        "random_samples = test_data[sample_index].cpu().numpy()\n",
        "\n",
        "plt.figure(figsize=(12, 12))\n",
        "\n",
        "# display test samples\n",
        "for k in range(num_samples):\n",
        "    plt.subplot(4, 4, k + 1)\n",
        "    plt.imshow(random_samples[k].reshape(28, 28),cmap='Greys')\n",
        "    plt.title(\"True: \" + str( classes[test_labels[sample_index[k]].item()]) + \",\\nPred: \" + str(classes[pred[sample_index[k]].item()]))\n",
        "    plt.axis('off')\n",
        "\n",
        "\n",
        "plt.show()"
      ],
      "execution_count": 14,
      "outputs": [
        {
          "output_type": "display_data",
          "data": {
            "text/plain": [
              "<Figure size 1200x1200 with 12 Axes>"
            ],
            "image/png": "[encoded data removed]"
          },
          "metadata": {}
        }
      ]
    },
    {
      "cell_type": "code",
      "source": [
        "# save model\n",
        "torch.save(model, root + 'my_CNN_model.pth')\n",
        "\n",
        "# load model\n",
        "# model = torch.load('my_CNN_model.pth')"
      ],
      "metadata": {
        "id": "qhPBxl3OO09E"
      },
      "execution_count": 15,
      "outputs": []
    },
    {
      "cell_type": "code",
      "source": [
        "# # save model weights\n",
        "# torch.save(model.state_dict(), 'model_weights.pth')\n",
        "\n",
        "# # load model weights\n",
        "# model = MyConvNet()\n",
        "# model.load_state_dict(torch.load('model_weights.pth'))\n"
      ],
      "metadata": {
        "id": "uLBE-ZKbP0oJ"
      },
      "execution_count": null,
      "outputs": []
    }
  ]
}