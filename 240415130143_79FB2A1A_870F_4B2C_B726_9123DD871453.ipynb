{
  "nbformat": 4,
  "nbformat_minor": 0,
  "metadata": {
    "colab": {
      "provenance": [],
      "include_colab_link": true
    },
    "kernelspec": {
      "name": "python3",
      "display_name": "Python 3"
    },
    "language_info": {
      "name": "python"
    },
    "accelerator": "GPU",
    "gpuClass": "standard"
  },
  "cells": [
    {
      "cell_type": "markdown",
      "metadata": {
        "id": "view-in-github",
        "colab_type": "text"
      },
      "source": [
        "<a href=\"https://colab.research.google.com/github/jhuee/DeepLearning/blob/main/240415130143_79FB2A1A_870F_4B2C_B726_9123DD871453.ipynb\" target=\"_parent\"><img src=\"https://colab.research.google.com/assets/colab-badge.svg\" alt=\"Open In Colab\"/></a>"
      ]
    },
    {
      "cell_type": "code",
      "source": [
        "import numpy as np\n",
        "import random\n",
        "import matplotlib.pyplot as plt\n",
        "from keras.datasets import mnist\n",
        "import time\n",
        "\n",
        "\n",
        "# load MNIST data\n",
        "(train_X, train_y), (test_X, test_y) = mnist.load_data()\n",
        "\n",
        "# 60000 training dataset // 100000 training dataset\n",
        "print(train_X.shape, train_y.shape, test_X.shape, test_y.shape)\n"
      ],
      "metadata": {
        "id": "7gWzNvN6rCOi"
      },
      "execution_count": null,
      "outputs": []
    },
    {
      "cell_type": "code",
      "source": [
        "# Display Some of the (training) data\n",
        "sample_index = np.random.choice(60000, size=12)\n",
        "num_samples = sample_index.size\n",
        "\n",
        "random_samples = train_X[sample_index]\n",
        "\n",
        "plt.figure(figsize=(12, 12))\n",
        "\n",
        "for k in range(num_samples):\n",
        "    plt.subplot(4, 4, k + 1)\n",
        "    plt.imshow(random_samples[k].reshape(28, 28),cmap='Greys')\n",
        "    plt.title(train_y[sample_index[k]])\n",
        "    plt.axis('off')\n",
        "\n",
        "\n",
        "plt.show()"
      ],
      "metadata": {
        "id": "86sYl3KEufy5",
        "colab": {
          "base_uri": "https://localhost:8080/",
          "height": 361
        },
        "outputId": "2eda99c1-c44d-41fe-a84b-ad59a82e48dc"
      },
      "execution_count": 1,
      "outputs": [
        {
          "output_type": "error",
          "ename": "NameError",
          "evalue": "name 'np' is not defined",
          "traceback": [
            "\u001b[0;31m---------------------------------------------------------------------------\u001b[0m",
            "\u001b[0;31mNameError\u001b[0m                                 Traceback (most recent call last)",
            "\u001b[0;32m<ipython-input-1-473b62161992>\u001b[0m in \u001b[0;36m<cell line: 2>\u001b[0;34m()\u001b[0m\n\u001b[1;32m      1\u001b[0m \u001b[0;31m# Display Some of the (training) data\u001b[0m\u001b[0;34m\u001b[0m\u001b[0;34m\u001b[0m\u001b[0m\n\u001b[0;32m----> 2\u001b[0;31m \u001b[0msample_index\u001b[0m \u001b[0;34m=\u001b[0m \u001b[0mnp\u001b[0m\u001b[0;34m.\u001b[0m\u001b[0mrandom\u001b[0m\u001b[0;34m.\u001b[0m\u001b[0mchoice\u001b[0m\u001b[0;34m(\u001b[0m\u001b[0;36m60000\u001b[0m\u001b[0;34m,\u001b[0m \u001b[0msize\u001b[0m\u001b[0;34m=\u001b[0m\u001b[0;36m12\u001b[0m\u001b[0;34m)\u001b[0m\u001b[0;34m\u001b[0m\u001b[0;34m\u001b[0m\u001b[0m\n\u001b[0m\u001b[1;32m      3\u001b[0m \u001b[0mnum_samples\u001b[0m \u001b[0;34m=\u001b[0m \u001b[0msample_index\u001b[0m\u001b[0;34m.\u001b[0m\u001b[0msize\u001b[0m\u001b[0;34m\u001b[0m\u001b[0;34m\u001b[0m\u001b[0m\n\u001b[1;32m      4\u001b[0m \u001b[0;34m\u001b[0m\u001b[0m\n\u001b[1;32m      5\u001b[0m \u001b[0mrandom_samples\u001b[0m \u001b[0;34m=\u001b[0m \u001b[0mtrain_X\u001b[0m\u001b[0;34m[\u001b[0m\u001b[0msample_index\u001b[0m\u001b[0;34m]\u001b[0m\u001b[0;34m\u001b[0m\u001b[0;34m\u001b[0m\u001b[0m\n",
            "\u001b[0;31mNameError\u001b[0m: name 'np' is not defined"
          ]
        }
      ]
    },
    {
      "cell_type": "code",
      "source": [
        "# Prepare dataset for training (reshape)\n",
        "\n",
        "X_train = train_X.reshape(60000,784).astype(float)\n",
        "X_test = test_X.reshape(10000,784).astype(float)\n",
        "y_train = train_y\n",
        "y_test = test_y\n",
        "\n",
        "X_train.shape, y_train.shape, X_test.shape, y_test.shape"
      ],
      "metadata": {
        "id": "u20wP3RurMek"
      },
      "execution_count": null,
      "outputs": []
    },
    {
      "cell_type": "markdown",
      "source": [
        "# kNN with k=5 and L2 norm"
      ],
      "metadata": {
        "id": "3AHiK6TgzQWS"
      }
    },
    {
      "cell_type": "code",
      "source": [
        "# k-NN training with sklearn\n",
        "from sklearn.neighbors import KNeighborsClassifier\n",
        "\n",
        "clf = KNeighborsClassifier(n_neighbors= 5, p = 2)      # 5-nearest neighbor // L2 norm\n",
        "clf.fit(X_train, y_train)\n"
      ],
      "metadata": {
        "id": "qLJUZIAnxhgE"
      },
      "execution_count": null,
      "outputs": []
    },
    {
      "cell_type": "code",
      "source": [
        "# Measure the accuracy of the kNN\n",
        "from sklearn.metrics import accuracy_score\n",
        "\n",
        "begin_time = time.time()\n",
        "pred = clf.predict(X_test)\n",
        "print(\"Accuracy: \", accuracy_score(y_test, pred))\n",
        "end_time = time.time()\n",
        "\n",
        "print(\"run time:\", end_time - begin_time)"
      ],
      "metadata": {
        "id": "dmlN3rf8pHJ4"
      },
      "execution_count": null,
      "outputs": []
    },
    {
      "cell_type": "code",
      "source": [
        "# Display test result (predicted labels and actual label)\n",
        "\n",
        "sample_index = np.random.choice(10000, size=12)     # take 12 random sample index\n",
        "num_samples = sample_index.size\n",
        "\n",
        "random_samples = test_X[sample_index]\n",
        "\n",
        "plt.figure(figsize=(12, 12))\n",
        "\n",
        "for k in range(num_samples):\n",
        "    plt.subplot(4, 4, k + 1)\n",
        "    plt.imshow(random_samples[k].reshape(28, 28),cmap='Greys')\n",
        "    plt.title(\"True: \" + str( test_y[sample_index[k]]) + \", Pred: \" + str(pred[sample_index[k]]))\n",
        "    plt.axis('off')\n",
        "\n",
        "\n",
        "plt.show()"
      ],
      "metadata": {
        "id": "wtN6AVAN3n7c"
      },
      "execution_count": null,
      "outputs": []
    },
    {
      "cell_type": "code",
      "source": [
        "# run PCA to reduce the data dimension\n",
        "from sklearn.decomposition import PCA\n",
        "\n",
        "pca = PCA(n_components = 10,svd_solver= 'full')\n",
        "pca.fit(X_train)\n",
        "\n",
        "# Find the new reduced dimensional representations\n",
        "X_train_reduced = pca.transform(X_train)\n",
        "X_test_reduced = pca.transform(X_test)\n",
        "\n",
        "\n"
      ],
      "metadata": {
        "id": "RlNxO0syqG10"
      },
      "execution_count": null,
      "outputs": []
    },
    {
      "cell_type": "code",
      "source": [
        "# KNN with PCA dimension reduction\n",
        "clf= KNeighborsClassifier(n_neighbors= 5, p = 2)   # kNN on PCA data\n",
        "clf.fit(X_train_reduced , y_train)\n",
        "\n",
        "\n",
        "# Test the accuracy\n",
        "begin_time = time.time()\n",
        "pred = clf.predict(X_test_reduced)\n",
        "print(\"Accuracy: \", accuracy_score(y_test, pred))\n",
        "end_time = time.time()\n",
        "\n",
        "print(\"run time:\", end_time - begin_time)"
      ],
      "metadata": {
        "id": "LT4HEBUOu6Z7"
      },
      "execution_count": null,
      "outputs": []
    }
  ]
}